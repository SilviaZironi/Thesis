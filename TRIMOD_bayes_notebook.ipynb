{
 "cells": [
  {
   "cell_type": "markdown",
   "id": "aed9be16",
   "metadata": {},
   "source": [
    "# TRIMOD + Python: runner, Bayes layer, and sweep\n",
    "\n",
    "Questo notebook contiene tutto il necessario per:\n",
    "1) **Pilotare TRIMOD** (Fortran) da Python (`runner.py`),\n",
    "2) definire **prior, likelihood e posterior** (`bayes_trimod.py`),\n",
    "3) eseguire uno **sweep 1D** su un parametro e salvare i risultati (`sweep.py`).\n",
    "\n",
    "Funziona sia in Jupyter sia da terminale. Se esegui in WSL/Ubuntu senza GUI, i grafici vengono **salvati** su file."
   ]
  },
  {
   "cell_type": "markdown",
   "id": "ef9ef39e",
   "metadata": {},
   "source": [
    "## Requisiti\n",
    "- Ubuntu/WSL con `gfortran`, `make`, e `libopenblas-dev`.\n",
    "- TRIMOD **compilato** in un eseguibile Linux (es. `./run`) nella stessa cartella di questo notebook.\n",
    "- Python 3.10+ con `numpy`, `scipy`, `matplotlib`, `pandas`.\n",
    "\n",
    "Se necessario:\n",
    "```bash\n",
    "sudo apt update && sudo apt install -y gfortran make libopenblas-dev\n",
    "python3 -m pip install numpy scipy matplotlib pandas\n",
    "```"
   ]
  },
  {
   "cell_type": "markdown",
   "id": "97beb316",
   "metadata": {},
   "source": [
    "## Percorsi\n",
    "Imposta il percorso dell'eseguibile Fortran e la cartella di lavoro."
   ]
  },
  {
   "cell_type": "code",
   "execution_count": 1,
   "id": "3637358d",
   "metadata": {},
   "outputs": [
    {
     "data": {
      "text/plain": [
       "PosixPath('run')"
      ]
     },
     "execution_count": 1,
     "metadata": {},
     "output_type": "execute_result"
    }
   ],
   "source": [
    "from pathlib import Path\n",
    "TRIMOD_EXE = Path('./run')        # path dell'eseguibile Fortran (ELF Linux)\n",
    "WORKDIR    = Path('./WORK')       # workdir dove verranno scritti/lettti i file\n",
    "WORKDIR.mkdir(exist_ok=True)\n",
    "TRIMOD_EXE"
   ]
  },
  {
   "cell_type": "markdown",
   "id": "f193fd5e",
   "metadata": {},
   "source": [
    "## `runner.py`\n",
    "Wrapper robusto per eseguire TRIMOD da Python, scrivere `params.in` e leggere `output.dat`. Copia `control.in` se presente."
   ]
  },
  {
   "cell_type": "code",
   "execution_count": 2,
   "id": "e4b0cd9d",
   "metadata": {},
   "outputs": [],
   "source": [
    "#!/usr/bin/env python3\n",
    "# -*- coding: utf-8 -*-\n",
    "from __future__ import annotations\n",
    "import os, re, subprocess\n",
    "from dataclasses import dataclass\n",
    "from pathlib import Path\n",
    "from typing import Iterable, Optional, Tuple\n",
    "\n",
    "_RE_E = re.compile(r\"\"\"3-body\\s+binding\\s+energy\\s*=\\s*([-+]?[\\d.]+(?:[eE][-+]?\\d+)?)\\s*MeV\"\"\" )\n",
    "\n",
    "@dataclass\n",
    "class TrimodRunner:\n",
    "    exe: str | os.PathLike = './run'\n",
    "    workdir: str | os.PathLike = './WORK'\n",
    "\n",
    "    def __post_init__(self):\n",
    "        # 1) risolvi percorso eseguibile in assoluto\n",
    "        self.exe_path = Path(self.exe).resolve()\n",
    "        # 2) workdir\n",
    "        self.workdir = Path(self.workdir)\n",
    "        self.workdir.mkdir(parents=True, exist_ok=True)\n",
    "        # 3) fallback './fortran/run'\n",
    "        if not self.exe_path.exists():\n",
    "            alt = Path('./fortran/run').resolve()\n",
    "            if alt.exists():\n",
    "                self.exe_path = alt\n",
    "        # 4) check\n",
    "        if not self.exe_path.exists():\n",
    "            raise FileNotFoundError(f'TRIMOD executable not found: {self.exe}')\n",
    "        # 5) assicura bit eseguibile (best effort)\n",
    "        try:\n",
    "            self.exe_path.chmod(self.exe_path.stat().st_mode | 0o111)\n",
    "        except Exception:\n",
    "            pass\n",
    "\n",
    "    def write_params(self, theta: Iterable[float]) -> Path:\n",
    "        v01, v02, a1, a2 = map(float, tuple(theta))\n",
    "        p = self.workdir / 'params.in'\n",
    "        p.write_text(f\"{v01:.12g} {v02:.12g} {a1:.12g} {a2:.12g}\\n\", encoding='utf-8')\n",
    "        return p\n",
    "\n",
    "    def copy_control_if_present(self, src: str | os.PathLike = 'control.in') -> Optional[Path]:\n",
    "        s = Path(src)\n",
    "        if s.exists():\n",
    "            d = self.workdir / 'control.in'\n",
    "            d.write_text(s.read_text(encoding='utf-8'), encoding='utf-8')\n",
    "            return d\n",
    "        return None\n",
    "\n",
    "    def _clean_output(self) -> None:\n",
    "        for name in ('output.dat', 'stdout.txt', 'stderr.txt'):\n",
    "            f = self.workdir / name\n",
    "            if f.exists():\n",
    "                try: f.unlink()\n",
    "                except Exception: pass\n",
    "\n",
    "    @staticmethod\n",
    "    def _parse_energy(text: str) -> Optional[float]:\n",
    "        m = _RE_E.search(text)\n",
    "        return float(m.group(1)) if m else None\n",
    "\n",
    "    def run_once(self) -> tuple[Optional[float], str]:\n",
    "        self._clean_output()\n",
    "        self.copy_control_if_present()\n",
    "        proc = subprocess.run([str(self.exe_path)], cwd=str(self.workdir),\n",
    "                              capture_output=True, text=True)\n",
    "        (self.workdir/'stdout.txt').write_text(proc.stdout or '', encoding='utf-8')\n",
    "        (self.workdir/'stderr.txt').write_text(proc.stderr or '', encoding='utf-8')\n",
    "\n",
    "        out_text = ''\n",
    "        out_file = self.workdir / 'output.dat'\n",
    "        if out_file.exists():\n",
    "            try: out_text = out_file.read_text(encoding='utf-8', errors='ignore')\n",
    "            except Exception: out_text = out_file.read_bytes().decode('utf-8', errors='ignore')\n",
    "\n",
    "        combined = (proc.stdout or '') + '\\n' + (proc.stderr or '') + '\\n' + out_text\n",
    "        lowered = combined.lower()\n",
    "        nonconv = any(k in lowered for k in ['too many iterations','itermax','iemax','not converg'])\n",
    "        E3 = self._parse_energy(out_text)\n",
    "        if E3 is None or nonconv:\n",
    "            return (None, combined)\n",
    "        return (E3, combined)\n",
    "\n",
    "    def run_one(self, theta: Iterable[float]) -> float:\n",
    "        self.write_params(theta)\n",
    "        E3, log = self.run_once()\n",
    "        if E3 is None:\n",
    "            last = \"\\n\".join((log or '').splitlines()[-25:])\n",
    "            raise RuntimeError('TRIMOD not converged or energy not found.\\n--- tail ---\\n' + last)\n",
    "        return E3\n"
   ]
  },
  {
   "cell_type": "markdown",
   "id": "a064429f",
   "metadata": {},
   "source": [
    "### Test rapido del runner"
   ]
  },
  {
   "cell_type": "code",
   "execution_count": 3,
   "id": "4c3179cb",
   "metadata": {},
   "outputs": [
    {
     "name": "stdout",
     "output_type": "stream",
     "text": [
      "E3 = -7.540551 MeV\n"
     ]
    }
   ],
   "source": [
    "from math import isnan\n",
    "tr = TrimodRunner(exe=str(TRIMOD_EXE), workdir=str(WORKDIR))\n",
    "theta_test = (-50.0, -30.0, 1.5, 2.0)\n",
    "try:\n",
    "    E3 = tr.run_one(theta_test)\n",
    "    print('E3 =', E3, 'MeV')\n",
    "except Exception as e:\n",
    "    print(e)\n"
   ]
  },
  {
   "cell_type": "markdown",
   "id": "fe836e3d",
   "metadata": {},
   "source": [
    "## `bayes_trimod.py`\n",
    "Definizione di prior, likelihood e posterior + funzione di sweep 1D."
   ]
  },
  {
   "cell_type": "code",
   "execution_count": 4,
   "id": "b0b8b7bd",
   "metadata": {},
   "outputs": [
    {
     "ename": "ModuleNotFoundError",
     "evalue": "No module named 'scipy'",
     "output_type": "error",
     "traceback": [
      "\u001b[0;31m---------------------------------------------------------------------------\u001b[0m",
      "\u001b[0;31mModuleNotFoundError\u001b[0m                       Traceback (most recent call last)",
      "Cell \u001b[0;32mIn[4], line 4\u001b[0m\n\u001b[1;32m      1\u001b[0m \u001b[38;5;66;03m#!/usr/bin/env python3\u001b[39;00m\n\u001b[1;32m      2\u001b[0m \u001b[38;5;66;03m# -*- coding: utf-8 -*-\u001b[39;00m\n\u001b[1;32m      3\u001b[0m \u001b[38;5;28;01mimport\u001b[39;00m\u001b[38;5;250m \u001b[39m\u001b[38;5;21;01mmath\u001b[39;00m\u001b[38;5;241m,\u001b[39m\u001b[38;5;250m \u001b[39m\u001b[38;5;21;01mnumpy\u001b[39;00m\u001b[38;5;250m \u001b[39m\u001b[38;5;28;01mas\u001b[39;00m\u001b[38;5;250m \u001b[39m\u001b[38;5;21;01mnp\u001b[39;00m\n\u001b[0;32m----> 4\u001b[0m \u001b[38;5;28;01mfrom\u001b[39;00m\u001b[38;5;250m \u001b[39m\u001b[38;5;21;01mscipy\u001b[39;00m\u001b[38;5;21;01m.\u001b[39;00m\u001b[38;5;21;01mspecial\u001b[39;00m\u001b[38;5;250m \u001b[39m\u001b[38;5;28;01mimport\u001b[39;00m logsumexp\n\u001b[1;32m      5\u001b[0m \u001b[38;5;28;01mfrom\u001b[39;00m\u001b[38;5;250m \u001b[39m\u001b[38;5;21;01mtyping\u001b[39;00m\u001b[38;5;250m \u001b[39m\u001b[38;5;28;01mimport\u001b[39;00m Iterable, Tuple, List, Dict\n\u001b[1;32m      6\u001b[0m \u001b[38;5;28;01mfrom\u001b[39;00m\u001b[38;5;250m \u001b[39m\u001b[38;5;21;01mdataclasses\u001b[39;00m\u001b[38;5;250m \u001b[39m\u001b[38;5;28;01mimport\u001b[39;00m dataclass\n",
      "\u001b[0;31mModuleNotFoundError\u001b[0m: No module named 'scipy'"
     ]
    }
   ],
   "source": [
    "#!/usr/bin/env python3\n",
    "# -*- coding: utf-8 -*-\n",
    "import math, numpy as np\n",
    "from scipy.special import logsumexp\n",
    "from typing import Iterable, Tuple, List, Dict\n",
    "from dataclasses import dataclass\n",
    "from runner import TrimodRunner\n",
    "\n",
    "E3_EXP   = -8.482\n",
    "SIGMA_TH = 0.5\n",
    "SIGMA_EXP= 0.001\n",
    "SIGMA    = math.hypot(SIGMA_TH, SIGMA_EXP)\n",
    "\n",
    "PRIOR_RANGES = {\n",
    "    'v01': (-200.0, -1.0),\n",
    "    'v02': (-200.0, -1.0),\n",
    "    'a1' : (0.2, 5.0),\n",
    "    'a2' : (0.2, 5.0),\n",
    "}\n",
    "\n",
    "def logprior(theta: Iterable[float]) -> float:\n",
    "    v01,v02,a1,a2 = theta\n",
    "    if not(PRIOR_RANGES['v01'][0] <= v01 <= PRIOR_RANGES['v01'][1]): return -math.inf\n",
    "    if not(PRIOR_RANGES['v02'][0] <= v02 <= PRIOR_RANGES['v02'][1]): return -math.inf\n",
    "    if not(PRIOR_RANGES['a1'][0]  <= a1  <= PRIOR_RANGES['a1'][1]):  return -math.inf\n",
    "    if not(PRIOR_RANGES['a2'][0]  <= a2  <= PRIOR_RANGES['a2'][1]):  return -math.inf\n",
    "    return 0.0\n",
    "\n",
    "def loglike(theta: Iterable[float], tr: TrimodRunner) -> float:\n",
    "    E3 = tr.run_one(theta)\n",
    "    r  = (E3 - E3_EXP) / SIGMA\n",
    "    return -0.5 * (r*r) - math.log(SIGMA * math.sqrt(2.0*math.pi))\n",
    "\n",
    "def logposterior(theta: Iterable[float], tr: TrimodRunner) -> float:\n",
    "    lp = logprior(theta)\n",
    "    if not np.isfinite(lp): return -math.inf\n",
    "    try: return lp + loglike(theta, tr)\n",
    "    except Exception: return -math.inf\n",
    "\n",
    "def sweep1d(param: str, pmin: float, pmax: float, n: int,\n",
    "            theta_fixed: Tuple[float,float,float,float],\n",
    "            tr: TrimodRunner):\n",
    "    idx = {'v01':0,'v02':1,'a1':2,'a2':3}[param]\n",
    "    grid = np.linspace(pmin, pmax, n)\n",
    "    rows = []\n",
    "    for val in grid:\n",
    "        theta = list(theta_fixed); theta[idx] = float(val)\n",
    "        lp = logposterior(theta, tr)\n",
    "        if np.isfinite(lp):\n",
    "            try: E3 = tr.run_one(theta)\n",
    "            except Exception: E3 = float('nan')\n",
    "        else:\n",
    "            E3 = float('nan')\n",
    "        rows.append({'x': float(val), 'E3': E3, 'logpost': float(lp)})\n",
    "    logw = np.array([r['logpost'] for r in rows], float)\n",
    "    mask = np.isfinite(logw)\n",
    "    if mask.any():\n",
    "        logw_norm = logw.copy()\n",
    "        logw_norm[mask] -= logsumexp(logw[mask])\n",
    "        w = np.exp(logw_norm)\n",
    "    else:\n",
    "        w = np.zeros_like(logw)\n",
    "    for r, wi in zip(rows, w): r['post_norm'] = float(wi)\n",
    "    return rows\n"
   ]
  },
  {
   "cell_type": "markdown",
   "id": "aeb29a18",
   "metadata": {},
   "source": [
    "### Valutazione del log-posterior per un punto θ"
   ]
  },
  {
   "cell_type": "code",
   "execution_count": null,
   "id": "60e50e46",
   "metadata": {},
   "outputs": [],
   "source": [
    "th = (-50.0, -30.0, 1.5, 2.0)\n",
    "tr = TrimodRunner(exe=str(TRIMOD_EXE), workdir=str(WORKDIR))\n",
    "lp = logposterior(th, tr)\n",
    "print('logposterior(theta) =', lp)"
   ]
  },
  {
   "cell_type": "markdown",
   "id": "96f5223f",
   "metadata": {},
   "source": [
    "## `sweep.py` (sweep 1D e salvataggio CSV)"
   ]
  },
  {
   "cell_type": "code",
   "execution_count": null,
   "id": "7c67b29a",
   "metadata": {},
   "outputs": [],
   "source": [
    "#!/usr/bin/env python3\n",
    "# -*- coding: utf-8 -*-\n",
    "import csv\n",
    "from pathlib import Path\n",
    "import matplotlib\n",
    "matplotlib.use('Agg')  # backend non-interattivo\n",
    "import matplotlib.pyplot as plt\n",
    "\n",
    "from runner import TrimodRunner\n",
    "from bayes_trimod import sweep1d\n",
    "\n",
    "TRIMOD_EXE = './run'\n",
    "WORKDIR    = './WORK'\n",
    "\n",
    "def main():\n",
    "    tr = TrimodRunner(exe=TRIMOD_EXE, workdir=WORKDIR)\n",
    "    # Sweep su v01 con altri parametri fissi\n",
    "    rows = sweep1d(param='v01', pmin=-120, pmax=-20, n=12,\n",
    "                   theta_fixed=(-50.0, -30.0, 1.5, 2.0), tr=tr)\n",
    "    # Salva CSV\n",
    "    out_csv = Path('sweep_v01.csv')\n",
    "    with out_csv.open('w', newline='') as f:\n",
    "        w = csv.DictWriter(f, fieldnames=['x','E3','logpost','post_norm'])\n",
    "        w.writeheader(); w.writerows(rows)\n",
    "    print('Saved', len(rows), 'rows to', out_csv)\n",
    "\n",
    "    # Grafici salvati su file\n",
    "    xs   = [r['x'] for r in rows]\n",
    "    E3s  = [r['E3'] for r in rows]\n",
    "    post = [r['post_norm'] for r in rows]\n",
    "\n",
    "    Path('figs').mkdir(exist_ok=True)\n",
    "\n",
    "    plt.figure(figsize=(6,4))\n",
    "    plt.plot(xs, E3s, marker='o')\n",
    "    plt.axhline(-8.482, ls='--', label='E3 exp')\n",
    "    plt.xlabel('v01'); plt.ylabel('E3 [MeV]'); plt.grid(True); plt.legend(); plt.tight_layout()\n",
    "    plt.savefig('figs/E3_vs_v01.png', dpi=200)\n",
    "\n",
    "    plt.figure(figsize=(6,4))\n",
    "    plt.plot(xs, post, marker='o')\n",
    "    plt.xlabel('v01'); plt.ylabel('Posterior (norm)'); plt.grid(True); plt.tight_layout()\n",
    "    plt.savefig('figs/post_vs_v01.png', dpi=200)\n",
    "\n",
    "if __name__ == '__main__':\n",
    "    main()\n"
   ]
  },
  {
   "cell_type": "markdown",
   "id": "c200059c",
   "metadata": {},
   "source": [
    "### Esempio: esegui lo sweep 1D da notebook (salva CSV e figure)"
   ]
  },
  {
   "cell_type": "code",
   "execution_count": null,
   "id": "cd35a1ce",
   "metadata": {},
   "outputs": [],
   "source": [
    "from sweep import main as sweep_main\n",
    "sweep_main()\n",
    "print('Guarda i file: sweep_v01.csv, figs/E3_vs_v01.png, figs/post_vs_v01.png')"
   ]
  }
 ],
 "metadata": {
  "kernelspec": {
   "display_name": "Python (tesi, WSL)",
   "language": "python",
   "name": "tesi-wsl"
  },
  "language_info": {
   "codemirror_mode": {
    "name": "ipython",
    "version": 3
   },
   "file_extension": ".py",
   "mimetype": "text/x-python",
   "name": "python",
   "nbconvert_exporter": "python",
   "pygments_lexer": "ipython3",
   "version": "3.10.12"
  }
 },
 "nbformat": 4,
 "nbformat_minor": 5
}
